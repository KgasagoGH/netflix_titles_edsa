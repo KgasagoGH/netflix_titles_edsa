{
 "cells": [
  {
   "cell_type": "code",
   "execution_count": null,
   "metadata": {},
   "outputs": [],
   "source": [
    "import pandas as pd\n",
    "import matplotlib.pyplot as plt\n",
    "import seaborn as sns\n",
    "import numpy as np\n",
    "from  collections import Counter\n",
    "from datetime import datetime"
   ]
  },
  {
   "cell_type": "code",
   "execution_count": null,
   "metadata": {},
   "outputs": [],
   "source": [
    "netflix_df = pd.read_csv('netflix_titles.csv', encoding='latin-1')"
   ]
  },
  {
   "cell_type": "code",
   "execution_count": null,
   "metadata": {},
   "outputs": [],
   "source": [
    "netflix_df.head()"
   ]
  },
  {
   "cell_type": "code",
   "execution_count": null,
   "metadata": {},
   "outputs": [],
   "source": [
    "summary = netflix_df.describe()\n",
    "print(summary)"
   ]
  },
  {
   "cell_type": "code",
   "execution_count": null,
   "metadata": {},
   "outputs": [],
   "source": [
    "netflix_df.info()"
   ]
  },
  {
   "cell_type": "code",
   "execution_count": null,
   "metadata": {},
   "outputs": [],
   "source": [
    "netflix_df.isnull().sum()"
   ]
  },
  {
   "cell_type": "code",
   "execution_count": null,
   "metadata": {},
   "outputs": [],
   "source": [
    "empty_director = netflix_df[netflix_df['director'].isnull()]\n",
    "print(empty_director)"
   ]
  },
  {
   "cell_type": "code",
   "execution_count": null,
   "metadata": {},
   "outputs": [],
   "source": [
    "cols = ['director', 'cast', 'country']\n",
    "\n",
    "netflix_df[cols] = netflix_df[cols].fillna('Unknown')\n",
    "print(netflix_df[cols])\n",
    "# fill in  mode\n",
    "netflix_df['date_added'].fillna(netflix_df['date_added'].mode()[0],inplace=True)\n",
    "netflix_df['rating'].fillna(netflix_df['rating'].mode()[0],inplace=True)\n",
    "for i in netflix_df.index:\n",
    "    if netflix_df.loc[i, 'rating']== 'UR':\n",
    "        netflix_df.loc[i,'rating']= 'NR'\n",
    "#drop row with missing values\n",
    "netflix_df=netflix_df.dropna(subset=['duration'])\n",
    "\n"
   ]
  },
  {
   "cell_type": "code",
   "execution_count": null,
   "metadata": {},
   "outputs": [],
   "source": [
    "netflix_df.head()"
   ]
  },
  {
   "cell_type": "code",
   "execution_count": null,
   "metadata": {},
   "outputs": [],
   "source": [
    "# Check for duplicate rows\n",
    "duplicate_rows = netflix_df[netflix_df.duplicated()]\n",
    "\n",
    "print(duplicate_rows)"
   ]
  },
  {
   "cell_type": "code",
   "execution_count": null,
   "metadata": {},
   "outputs": [],
   "source": [
    "netflix_df = netflix_df.iloc[0:8808:]"
   ]
  },
  {
   "cell_type": "code",
   "execution_count": null,
   "metadata": {},
   "outputs": [],
   "source": [
    "netflix_df.drop_duplicates()"
   ]
  },
  {
   "cell_type": "code",
   "execution_count": null,
   "metadata": {},
   "outputs": [],
   "source": [
    "# Create separate DataFrames for TV Shows and Movies\n",
    "tv_shows_df = netflix_df[netflix_df['type'] == 'TV Show']\n",
    "print(tv_shows_df)"
   ]
  },
  {
   "cell_type": "code",
   "execution_count": null,
   "metadata": {},
   "outputs": [],
   "source": [
    "movies_df = netflix_df[netflix_df['type'] == 'Movie']\n",
    "print(movies_df)"
   ]
  },
  {
   "cell_type": "code",
   "execution_count": null,
   "metadata": {},
   "outputs": [],
   "source": [
    "# transfer to datetime type\n",
    "netflix_df['duration_mins']=netflix_df[netflix_df['type']=='Movie']['duration'].str.extract('(\\d+)').astype(float)\n",
    "netflix_df['duration_seasons']=netflix_df[netflix_df['type']=='TV Show']['duration'].str.extract('(\\d+)').astype(float)\n",
    "#NaN values replace with 0\n",
    "netflix_df[['duration_mins', 'duration_seasons']]= netflix_df[['duration_mins', 'duration_seasons']].fillna(0)\n",
    "#drop the  duration column\n",
    "netflix_df=netflix_df.drop('duration', axis=1)\n"
   ]
  },
  {
   "cell_type": "code",
   "execution_count": null,
   "metadata": {},
   "outputs": [],
   "source": [
    "netflix_df.head()"
   ]
  }
 ],
 "metadata": {
  "kernelspec": {
   "display_name": "base",
   "language": "python",
   "name": "python3"
  },
  "language_info": {
   "codemirror_mode": {
    "name": "ipython",
    "version": 3
   },
   "file_extension": ".py",
   "mimetype": "text/x-python",
   "name": "python",
   "nbconvert_exporter": "python",
   "pygments_lexer": "ipython3",
   "version": "3.11.3"
  },
  "orig_nbformat": 4
 },
 "nbformat": 4,
 "nbformat_minor": 2
}
